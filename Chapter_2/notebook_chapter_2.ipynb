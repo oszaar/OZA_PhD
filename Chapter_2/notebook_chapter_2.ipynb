{
 "cells": [
  {
   "cell_type": "code",
   "execution_count": 10,
   "id": "worse-english",
   "metadata": {},
   "outputs": [],
   "source": [
    "'''\n",
    "This section imports all the modules and \n",
    "definitions I commonly use thrroughout most \n",
    "notebooks\n",
    "'''\n",
    "\n",
    "import sys\n",
    "sys.path.append('../libraries/')\n",
    "from libraries_and_definitions import *"
   ]
  },
  {
   "cell_type": "markdown",
   "id": "framed-savannah",
   "metadata": {},
   "source": [
    "# Carnot Efficiency"
   ]
  },
  {
   "cell_type": "code",
   "execution_count": 11,
   "id": "short-alexander",
   "metadata": {},
   "outputs": [
    {
     "data": {
      "image/png": "[encoded data removed]",
      "text/plain": [
       "<Figure size 216x129.6 with 1 Axes>"
      ]
     },
     "metadata": {
      "needs_background": "light"
     },
     "output_type": "display_data"
    }
   ],
   "source": [
    "#data import\n",
    "efficiency_frame = pd.read_csv(\"data/Efficiency_frame.csv\",index_col=0, header=0)\n",
    "# efficiency_frame = pd.read_csv(\"Chapter_1/Efficiency_frame.csv\",index_col=0, header=0)\n",
    "efficiency_melt=pd.melt(efficiency_frame, \n",
    "        id_vars=['Carnot'], #Column(s) to use as identifier variables.\n",
    "        var_name='ZT', # Name to use for the ‘variable’ column. If None it uses frame.columns.name or ‘variable’.\n",
    "        value_name='ZT_value', # Name to use for the ‘value’ column.\n",
    "        ignore_index=False\n",
    "       )\n",
    "efficiency_melt=efficiency_melt.reset_index()\n",
    "\n",
    "# setting the whole figure dimensions\n",
    "fig = plt.figure(figsize=(3,1.8))\n",
    "\n",
    "# setting up a subplot within the figure (rows,columns,position)\n",
    "ax1 = fig.add_subplot(1, 1, 1, ) # yticklabels=[], yticks=[],xticklabels=[], xticks=[]) \n",
    "\n",
    "\n",
    "sns.lineplot(data=efficiency_melt, x='Temperature[C]',y='ZT_value', hue='ZT',lw=1 ,palette='crest',ls='-',zorder=0,ax=ax1,legend=False )\n",
    "sns.lineplot(data=efficiency_melt, x='Temperature[C]',y='Carnot', lw=1 ,color='k',ls='-',zorder=0,ax=ax1 )\n",
    "\n",
    "crest=sns.color_palette(\"crest\", as_cmap=True)\n",
    "\n",
    "\n",
    "ax1.annotate(\"$ZT$=0.01\", xy=(1.01, 0.44), xycoords=\"axes fraction\", fontsize=7.8,color=crest(0.2))\n",
    "ax1.annotate(\"$ZT$=0.1\", xy=(1.01, 0.65), xycoords=\"axes fraction\", fontsize=7.8,color=crest(0.5))\n",
    "ax1.annotate(\"$ZT$=1\", xy=(1.01, 0.84), xycoords=\"axes fraction\", fontsize=7.8,color=crest(0.95))\n",
    "ax1.annotate(\"Carnot\", xy=(1.01, 1), xycoords=\"axes fraction\", fontsize=7.8,color='k')\n",
    "\n",
    "ax1.vlines(100,1E-3,3.6E0,ls=':',lw=0.8,color='dimgray',zorder=-1)\n",
    "ax1.hlines(3.6E0,0,100,ls=':',lw=0.8,color='dimgray',zorder=-1)\n",
    "\n",
    "ax1.vlines(37,7E-4,6.7E-1,ls=':',lw=0.8,color='dimgray',zorder=-1)\n",
    "ax1.hlines(6.5E-1,0,37,ls=':',lw=0.8,color='dimgray',zorder=-1)\n",
    "\n",
    "ax1.vlines(175,7E-4,7.6E0,ls=':',lw=0.8,color='dimgray',zorder=-1)\n",
    "ax1.hlines(7.6E0,0,175,ls=':',lw=0.8,color='dimgray',zorder=-1)\n",
    "\n",
    "\n",
    "ax1.annotate(\"0.6 $\\%$\", xy=(42, 5E-1), xycoords=\"data\", fontsize=7,color='k')\n",
    "ax1.annotate(\"3.6 $\\%$\", xy=(102, 2E0), xycoords=\"data\", fontsize=7,color='k')\n",
    "ax1.annotate(\"7.6 $\\%$\", xy=(165, 8.2E0), xycoords=\"data\", fontsize=7,color='k')\n",
    "\n",
    "\n",
    "ax1.set_yscale('log')\n",
    "ax1.set_ylim(1E-3,40)\n",
    "ax1.set_xlim(25,200)\n",
    "ax1.set_xlabel('Heat source temperature [$^\\circ$C]')\n",
    "ax1.set_ylabel('Efficiency, $\\eta$ [$\\%$]')\n",
    "\n",
    "\n",
    "\n",
    "\n",
    "plt.subplots_adjust(\n",
    "    wspace = 0.2,  # the amount of width reserved for space between subplots,\n",
    "                  # expressed as a fraction of the average axis width\n",
    "    hspace = 0.2  # the amount of height reserved for space between subplots,\n",
    ")"
   ]
  },
  {
   "cell_type": "code",
   "execution_count": 6,
   "id": "regular-vietnam",
   "metadata": {
    "jupyter": {
     "source_hidden": true
    }
   },
   "outputs": [
    {
     "data": {
      "image/png": "[encoded data removed]",
      "text/plain": [
       "<Figure size 252x129.6 with 2 Axes>"
      ]
     },
     "metadata": {
      "needs_background": "light"
     },
     "output_type": "display_data"
    }
   ],
   "source": [
    "n_sigma = pd.read_csv(\"data/n_sigma.csv\",index_col=None, header=None) \n",
    "n_mu = pd.read_csv(\"data/n_mu.csv\",index_col=None, header=None) \n",
    "\n",
    "# figure frame\n",
    "fig = plt.figure(figsize=(3.5,1.8))\n",
    "ax1 = fig.add_subplot(1, 2, 1, zorder=100) \n",
    "ax2 = fig.add_subplot(1, 2, 2, zorder=100 ) \n",
    "axins1 = ax1.inset_axes([0., 0., 1, 1]) #\n",
    "axins1.patch.set_alpha(0.1)\n",
    "axins2 = ax2.inset_axes([0.0, 0., 1, 1]) #\n",
    "axins2.patch.set_alpha(0.1)\n",
    "axins1.axis('off')\n",
    "axins2.axis('off')\n",
    "axins1.set_xscale('log')\n",
    "axins1.set_yscale('log')\n",
    "axins2.set_xscale('log')\n",
    "axins2.set_yscale('log')\n",
    "axins1.set_xlim(8E-4,1.1E-1)\n",
    "axins2.set_xlim(8E-4,1.1E-1)\n",
    "\n",
    "\n",
    "sns.regplot(x=n_sigma[0],y=n_sigma[1], ax=axins1,\n",
    "                scatter_kws={'s':0}, order=5, ci=0\n",
    "               )\n",
    "sns.regplot(x=n_mu[0],y=n_mu[1], ax=axins2,\n",
    "                scatter_kws={'s':0}, order=8, ci=0\n",
    "               )\n",
    "\n",
    "\n",
    "ax1.annotate('',\n",
    "            xy=(0.0, 0), xycoords='axes fraction',\n",
    "            xytext=(1.2,0), textcoords='axes fraction',\n",
    "            arrowprops=dict(arrowstyle=\"<-\",\n",
    "                            lw=1, color='k'), zorder=-50, fontsize=10)\n",
    "ax1.annotate('',\n",
    "            xy=(0.0, 0), xycoords='axes fraction',\n",
    "            xytext=(0,1.15), textcoords='axes fraction',\n",
    "            arrowprops=dict(arrowstyle=\"<-\",\n",
    "                            lw=1, color='k'), zorder=-50, fontsize=10)\n",
    "ax2.annotate('',\n",
    "            xy=(0.0, 0), xycoords='axes fraction',\n",
    "            xytext=(1.2,0), textcoords='axes fraction',\n",
    "            arrowprops=dict(arrowstyle=\"<-\",\n",
    "                            lw=1, color='k'), zorder=-50, fontsize=10)\n",
    "ax2.annotate('',\n",
    "            xy=(0.0, 0), xycoords='axes fraction',\n",
    "            xytext=(0,1.15), textcoords='axes fraction',\n",
    "            arrowprops=dict(arrowstyle=\"<-\",\n",
    "                            lw=1, color='k'), zorder=-50, fontsize=10)\n",
    "\n",
    "for axes in [ax1.axes, ax2.axes]:\n",
    "    axes.set_yscale('log')\n",
    "    axes.set_xscale('log')\n",
    "    axes.set_xlim(1E-3,1E-0)\n",
    "    axes.set_ylim(1E-3,1E-0) \n",
    "    axes.set_xlabel('$n$ [cm$^{-3}$]',fontsize=8)\n",
    "#     axes.xaxis.set_major_locator(plt.MaxNLocator(5))  \n",
    "    axes.set_yticklabels([])\n",
    "    axes.set_xticklabels([]) \n",
    "    locmin = matplotlib.ticker.LogLocator(base=10.0,subs=(0.2,0.4,0.6,0.8),numticks=4)\n",
    "    axes.yaxis.set_minor_locator(locmin)\n",
    "    axes.yaxis.set_minor_formatter(matplotlib.ticker.NullFormatter())\n",
    "    locmin2 = matplotlib.ticker.LogLocator(base=10.0,subs=(0.2,0.4,0.6,0.8),numticks=4)\n",
    "    axes.xaxis.set_minor_locator(locmin2)\n",
    "    axes.xaxis.set_minor_formatter(matplotlib.ticker.NullFormatter())\n",
    "ax1.set_ylabel('$\\sigma\\quad [\\mathrm{S\\,cm}^{-1}]$')\n",
    "ax2.set_ylabel('$\\mu\\quad [\\mathrm{cm}^2\\,\\mathrm{(Vs)}^{-1}]$')\n",
    "\n",
    "plt.tight_layout()\n",
    "# fig.savefig('/Users/Zapata/Dropbox/Apps/Overleaf/thesis_OZA (Version 28107)/classicthesis_on_work/gfx/chapter_1/sigma_n.pdf', bbox_inches='tight')\n",
    "    "
   ]
  },
  {
   "cell_type": "code",
   "execution_count": 7,
   "id": "loving-wayne",
   "metadata": {
    "jupyter": {
     "source_hidden": true
    }
   },
   "outputs": [
    {
     "data": {
      "image/png": "[encoded data removed]",
      "text/plain": [
       "<Figure size 108x115.2 with 1 Axes>"
      ]
     },
     "metadata": {
      "needs_background": "light"
     },
     "output_type": "display_data"
    }
   ],
   "source": [
    "# figure frame\n",
    "fig = plt.figure(figsize=(1.5,1.6))\n",
    "ax1 = fig.add_subplot(1, 1, 1, ) \n",
    "\n",
    "\n",
    "x= [40,43,55,132,221,349]\n",
    "y=[1.9,3.5,13,115,220,349]\n",
    "\n",
    "sns.regplot(x,y, ax=ax1, scatter_kws={'s':0})\n",
    "\n",
    "for axes in [ax1.axes]:\n",
    "    axes.set_yscale('log')\n",
    "    axes.set_xlim(-2,350)\n",
    "    axes.set_ylim(8E-1,1E3) \n",
    "    axes.set_xlabel('OCL [nm]',fontsize=8)\n",
    "    axes.set_ylabel('$\\sigma\\quad [\\mathrm{S\\,cm}^{-1}]$', fontsize=9)\n",
    "    axes.xaxis.set_major_locator(plt.MaxNLocator(5))  \n",
    "#     axes.set_yticklabels([])\n",
    "#     axes.set_xticklabels([]) \n",
    "\n",
    "locmin = matplotlib.ticker.LogLocator(base=10.0,subs=(0.2,0.4,0.6,0.8),numticks=4)\n",
    "ax1.yaxis.set_minor_locator(locmin)\n",
    "ax1.yaxis.set_minor_formatter(matplotlib.ticker.NullFormatter())\n",
    "# plt.tight_layout()\n",
    "    "
   ]
  },
  {
   "cell_type": "code",
   "execution_count": 10,
   "id": "talented-samuel",
   "metadata": {
    "jupyter": {
     "source_hidden": true
    }
   },
   "outputs": [
    {
     "data": {
      "image/png": "[encoded data removed]",
      "text/plain": [
       "<Figure size 216x136.8 with 1 Axes>"
      ]
     },
     "metadata": {
      "needs_background": "light"
     },
     "output_type": "display_data"
    }
   ],
   "source": [
    "'''\n",
    "Data import, the data was compiled from the specified references (in DOI)\n",
    "'''\n",
    "k_doi1 = pd.read_csv(\"data/Kappa_DOI_10.1002_adma.201404738.csv\",index_col=None, header=None) \n",
    "pani1 = pd.read_csv(\"data/PANI_10.1023_A_1020612123826.csv\",index_col=None, header=None, skiprows=2) #DOI : 10.1016/0379-6779(91)91162\n",
    "pani2 = pd.read_csv(\"data/PANI_DOI_10.1016_0379-6779_91_91162-4.csv\",index_col=None, header=None, skiprows=1) #DOI : 10.1023/A:1020612123826\n",
    "k_doi2 = pd.read_csv(\"data/Kappa_DOI_10.1038_nmat3635.csv\",index_col=None, header=None) # DOI : 10.1038_nmat3635.csv\n",
    "\n",
    "fig = plt.figure(figsize=(3,1.9))\n",
    "ax1 = fig.add_subplot(1, 1, 1, ) \n",
    "axins = ax1.inset_axes([0, 1.2, 1, 0.2]) #\n",
    "axins.patch.set_alpha(0.1)\n",
    "\n",
    "\n",
    "delta = 1000\n",
    "x = np.logspace(-1, 4, delta) #x range\n",
    "y = np.linspace(-3, 3, delta)     #y range\n",
    "X, Y = np.meshgrid(x, y)\n",
    "\n",
    "sigma=x*100 # [S/cm] or ohm^-1 cm^-1\n",
    "T=300 # [K]\n",
    "kl=0.3 # [K]\n",
    "Lorenz= 2.44E-8# [W ohm K^-2]\n",
    "ke=sigma*Lorenz*T # [ohm^-1 m^-1] [k]   [W ohm K^-2]\n",
    "kea=sigma*(Lorenz*3.5)*T# [ohm^-1 m^-1] [k]   [W ohm K^-2]\n",
    "keb=sigma*(Lorenz/3.5)*T# [ohm^-1 m^-1] [k]   [W ohm K^-2]\n",
    "\n",
    "kappa=(ke+kl)\n",
    "kappaa=(kea+kl)\n",
    "kappab=(keb+kl)\n",
    "\n",
    "ax1.plot(x,kappa,lw=1, c='tab:gray')\n",
    "ax1.plot(x,kappaa,lw=1, c='tab:blue', ls='--',zorder=-1)\n",
    "ax1.plot(x,kappab,lw=1, c='tab:orange',ls='--',zorder=-1)\n",
    "\n",
    "ax1.vlines(1E3, 0,1.05, lw=0.8, ls=':', color='k')\n",
    "ax1.hlines(1, 0,1000, lw=0.8, ls=':', color='k')\n",
    "\n",
    "#### plots from literature for comparison \n",
    "# ax1.plot(mariano[0],(1/mariano[1]), c='y' ) \n",
    "sns.scatterplot(k_doi1[0],k_doi1[1],ax=ax1, color='tab:blue')\n",
    "sns.scatterplot(k_doi2[0],k_doi2[1],ax=ax1, color='tab:orange')\n",
    "# sns.scatterplot(polyaniline[0],polyaniline[1] ,ax=ax1, color='tab:purple')\n",
    "sns.scatterplot(pani1[0],pani1[1],ax=ax1,color='tab:orange', zorder=-5,marker='v', s=50)\n",
    "sns.scatterplot(pani2[1],pani2[0],ax=ax1,color='tab:blue',zorder=-4, marker='v', alpha=0.8, s=50)\n",
    "\n",
    "sns.scatterplot(x=[-100],y=[100],ax=ax1,color='k',zorder=-4, marker='o', alpha=0.8, s=50, label='PEDOT-based')\n",
    "sns.scatterplot(x=[-100],y=[100],ax=ax1,color='k',zorder=-4, marker='v', alpha=0.8, s=50, label='PANI-based')\n",
    "sns.scatterplot(x=[-100],y=[100],ax=ax1,color='k',zorder=-4, marker='s', alpha=0.8, s=40, label='polyacetylene')\n",
    "\n",
    "#############\n",
    "sns.scatterplot(x=[270],y=[6.9],ax=axins,color='k',zorder=-4, marker='s', alpha=0.8, s=40, label='')\n",
    "axins.set_xticklabels([]) \n",
    "\n",
    "\n",
    "axins.spines['bottom'].set_visible(False)\n",
    "axins.spines['top'].set_visible(True)\n",
    "axins.xaxis.tick_top() \n",
    "\n",
    "annotate(ax1,2.2E3,2.5,'$L_0$',fc='tab:gray',y0=2)\n",
    "\n",
    "ax1.fill_between(x, (kappaa), (kappab), color='tab:gray', alpha=.2)\n",
    "\n",
    "for axes in [ax1.axes]:\n",
    "    axes.set_xscale('log')\n",
    "#     axes.set_yscale('log')\n",
    "    axes.set_xlim(1E-1,1E4)\n",
    "    axes.set_ylim(0.,2)\n",
    "    axes.set_ylabel('$\\kappa\\quad [\\mathrm{W}\\,\\mathrm{m}^{-1}\\,K^{-1}]$')\n",
    "    axes.set_xlabel('$\\sigma\\quad[\\mathrm{S}\\,\\mathrm{cm}^{-1}]$')"
   ]
  },
  {
   "cell_type": "code",
   "execution_count": null,
   "id": "disciplinary-tackle",
   "metadata": {},
   "outputs": [],
   "source": []
  },
  {
   "cell_type": "code",
   "execution_count": 12,
   "id": "hearing-summit",
   "metadata": {
    "jupyter": {
     "source_hidden": true
    }
   },
   "outputs": [
    {
     "data": {
      "image/png": "[encoded data removed]",
      "text/plain": [
       "<Figure size 288x165.6 with 1 Axes>"
      ]
     },
     "metadata": {
      "needs_background": "light"
     },
     "output_type": "display_data"
    }
   ],
   "source": [
    "# Data import\n",
    "reference_values = pd.read_csv(\"data/melt_sigma_s_reference_values.csv\",index_col=None, header=0) \n",
    "pedot = pd.read_csv(\"data/PEDOT_DOI_10.1038_s41598-020-64951-z.csv\",index_col=None, header=None) \n",
    "\n",
    "fig = plt.figure(figsize=(4,2.3))\n",
    "ax1 = fig.add_subplot(1, 1, 1,)\n",
    "# ax2 = fig.add_subplot(1, 1, 1,)\n",
    "\n",
    "\n",
    "\n",
    "x=np.logspace(-8,8,100) # in ohms^-1 cm^-1\n",
    "y=np.logspace(1,4,100) # in uV cm^-1\n",
    "\n",
    "sigma=x\n",
    "Seebeck= teu*((x)/1)**(-1/4)\n",
    "\n",
    "\n",
    "def ulaw_Glaudell(x):\n",
    "    return teu*((x)/0.00001)**(-1/4)\n",
    "def ulaw_Glaudell_2(x):\n",
    "    return teu*((x)/0.001)**(-1/4)\n",
    "def ulaw_PF_Glaudell(x):\n",
    "    return teu*((x)/1E4)**(1/2)  #Glaudell universal power law for thermoelectrics\n",
    "\n",
    "def ulaw_S_Glaudell(x):\n",
    "    return (teu*((x)/4E-5)**(-1/4))*10  #Glaudell universal power law for thermoelectrics\n",
    "def ulaw_S_Glaudell_2(x):\n",
    "    return (teu*((x)/3.2E-3)**(-1/4))*10 \n",
    "\n",
    "ulaw= ulaw_Glaudell(x)\n",
    "\n",
    "# ax1.plot(sigma,Seebeck)\n",
    "ax1.plot(x,ulaw_S_Glaudell(x), color='k', lw=2, ls='--',zorder=10, alpha=0.6)\n",
    "ax1.plot(x,ulaw_S_Glaudell_2(x), color='k', lw=1, ls='--',zorder=10, alpha=0.6)\n",
    "\n",
    "#### this plots the reference data \n",
    "sns.scatterplot(data=reference_values, x='sigma', y='Seebeck', hue='Material', legend=True,\n",
    "#                 style='Family',\n",
    "                alpha=0.85)\n",
    "\n",
    "\n",
    "\n",
    "\n",
    "\n",
    "\n",
    "\n",
    "################# placing the inset\n",
    "axins = ax1.inset_axes([0.75, 0.75, 0.55, 0.45]) #\n",
    "axins.patch.set_alpha(0.1)\n",
    "axins.plot(x,ulaw_PF_Glaudell(x), color='k', lw=2, ls='--',zorder=10, alpha=0.6)\n",
    "sns.scatterplot(data=reference_values, x='sigma', y='power factor', hue='Material', legend=False,\n",
    "#                 style='Family',\n",
    "                alpha=0.8, ax=axins, s=10)\n",
    "\n",
    "axins.set_xscale('log')\n",
    "axins.set_yscale('log')\n",
    "axins.set_xlim(1E-7,1E7)\n",
    "axins.set_xlabel('$\\sigma\\quad[\\mathrm{S}\\,\\mathrm{cm}^{-1}]$')\n",
    "axins.set_ylabel('$S^2\\sigma\\quad$ [$\\mu$W m$^{-1} $K$^{-2}$]')\n",
    "\n",
    "####### limits\n",
    "\n",
    "for axes in [ax1.axes, ax2.axes]:\n",
    "    axes.set_xscale('log')\n",
    "    axes.set_yscale('log')\n",
    "    axes.set_xlim(1E-7,1E7)\n",
    "    axes.set_xlabel('$\\sigma\\quad[\\mathrm{S}\\,\\mathrm{cm}^{-1}]$')\n",
    "\n",
    "for axes in [ax1.axes]:\n",
    "    axes.set_ylim(5,2500)\n",
    "    axes.set_ylabel('$\\\\alpha\\quad[\\mu\\mathrm{V}\\,K^{-1}]$')\n",
    "    \n",
    "##### legends\n",
    "\n",
    "# ax1.legend(bbox_to_anchor=(1.7,1.2))\n",
    "ax1.legend(bbox_to_anchor=(-0.2,1.2))\n",
    "\n",
    "font = mpfm.FontProperties(family='Roboto Slab',weight='regular', size=15)\n",
    "\n",
    "# annotations\n",
    "# annotate(ax1,1E-6,2500,'$S^2\\sigma=\\\\frac{K_{\\mathrm{B}}}{e}\\,\\\\frac{\\sigma}{\\sigma_\\\\alpha}$', fc='gray', y0=2000)\n",
    "# ax1.annotate('$S^2\\sigma=\\\\frac{K_{\\mathrm{B}}}{e}\\,(\\\\frac{\\sigma}{\\sigma_\\\\alpha})^{-1/4}$',\n",
    "#             xy=(0., 1.1), xycoords=\"axes fraction\", fontsize=8.5, color= 'k', zorder=1)\n",
    "ax1.annotate('$S^2\\sigma\\propto\\sigma^{-1/4}$',\n",
    "            xy=(0., 1.1), xycoords=\"axes fraction\", fontsize=8.5, color= 'k', zorder=1)\n",
    "axins.annotate('$S^2\\sigma\\propto\\sigma^{1/2}$',\n",
    "            xy=(0., 1.1), xycoords=\"axes fraction\", fontsize=8.5, color= 'k', zorder=1)\n",
    "\n",
    "\n",
    "\n",
    "ax1.annotate('$\\sigma_{E0}$',\n",
    "            xy=(0.05, 0.5), xycoords='axes fraction',\n",
    "            xytext=(0.5,1), textcoords='axes fraction',\n",
    "            arrowprops=dict(arrowstyle=\"<->\",\n",
    "                            lw=1, color='k'), zorder=0, fontsize=10);"
   ]
  }
 ],
 "metadata": {
  "kernelspec": {
   "display_name": "Python 3",
   "language": "python",
   "name": "python3"
  },
  "language_info": {
   "codemirror_mode": {
    "name": "ipython",
    "version": 3
   },
   "file_extension": ".py",
   "mimetype": "text/x-python",
   "name": "python",
   "nbconvert_exporter": "python",
   "pygments_lexer": "ipython3",
   "version": "3.8.8"
  }
 },
 "nbformat": 4,
 "nbformat_minor": 5
}
