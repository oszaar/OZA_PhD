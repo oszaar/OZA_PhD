{
 "cells": [
  {
   "cell_type": "markdown",
   "metadata": {},
   "source": [
    "# Global libraries"
   ]
  },
  {
   "cell_type": "code",
   "execution_count": 2,
   "metadata": {
    "jupyter": {
     "source_hidden": true
    }
   },
   "outputs": [],
   "source": [
    "############################################# import libraries ###############################\n",
    "import matplotlib as mpl\n",
    "import matplotlib.pyplot as plt\n",
    "import matplotlib.colors as colors\n",
    "from matplotlib.colors import (LinearSegmentedColormap,ListedColormap)\n",
    "import matplotlib.ticker as mtick\n",
    "from matplotlib.patches import Ellipse\n",
    "from matplotlib.text import OffsetFrom\n",
    "from matplotlib.lines import Line2D\n",
    "import matplotlib.image as mpimg\n",
    "import matplotlib.ticker as ticker\n",
    "from matplotlib.ticker import (MultipleLocator, FormatStrFormatter,\n",
    "                               AutoMinorLocator,LogLocator)\n",
    "from matplotlib.offsetbox import TextArea, DrawingArea, OffsetImage, AnnotationBbox\n",
    "from matplotlib.collections import LineCollection\n",
    "from matplotlib import cm\n",
    "\n",
    "############################################ \n",
    "import pandas as pd\n",
    "import glob\n",
    "import os\n",
    "from os import listdir\n",
    "import numpy as np\n",
    "from mpl_toolkits.axes_grid1 import make_axes_locatable\n",
    "import seaborn as sns\n",
    "import math\n",
    "from mpl_toolkits.mplot3d import Axes3D\n",
    "import numpy.polynomial.polynomial as poly\n",
    "\n",
    "########################################### for image composition\n",
    "import svgutils.compose as sc\n",
    "from IPython.display import SVG\n",
    "import matplotlib.image as imgs \n",
    "from PIL import Image \n",
    "\n",
    "### scypy libraries\n",
    "from scipy import sparse\n",
    "from scipy.sparse.linalg import spsolve\n",
    "from scipy import optimize\n",
    "from scipy.interpolate import *\n",
    "from scipy.signal import savgol_filter\n",
    "from scipy import integrate\n",
    "import scipy.interpolate as si\n",
    "# from scipy.interpolate import BSpline\n",
    "import scipy.interpolate as interpolate\n",
    "\n",
    "### lmfit libraries, used for curve and peak fitting \n",
    "import lmfit \n",
    "import asteval\n",
    "from lmfit import *\n",
    "from lmfit import models\n",
    "from lmfit.model import load_model\n",
    "from lmfit.model import save_modelresult\n",
    "from lmfit.models import (ExpressionModel, GaussianModel, ExponentialModel,PowerLawModel,\n",
    "                          StepModel,LinearModel) \n",
    "\n",
    "###################### other libraries\n",
    "from brukeropusreader import read_file  #opus_data = read_file('opus_file.0')\n",
    "import ntpath\n",
    "import argparse\n",
    "import sys\n",
    "import statsmodels.api as sm\n",
    "from patsy import dmatrices\n",
    "from BaselineRemoval import BaselineRemoval\n",
    "\n",
    "\n",
    "\n",
    "\n",
    "############################################# plotting style ###################################\n",
    "\n",
    "plt.style.use('seaborn-paper')\n",
    "plt.rc('font', family='serif')\n",
    "plt.rcParams['figure.dpi']= 150\n",
    "\n",
    "nice_fonts = {\n",
    "        # Use LaTeX to write all text\n",
    "        \"text.usetex\": True,\n",
    "        \"font.family\": \"serif\",\n",
    "        # Use 10pt font in plots, to match 10pt font in document\n",
    "        \"axes.labelsize\": 8.2,\n",
    "        \"font.size\": 8.2,\n",
    "        # Make the legend/label fonts a little smaller\n",
    "        \"legend.fontsize\": 8,\n",
    "        \"xtick.labelsize\": 7.8,\n",
    "        \"ytick.labelsize\": 7.8,\n",
    "        'axes.spines.top': False,\n",
    "        'axes.spines.right': False,\n",
    "        'ytick.minor.left': True,\n",
    "        'xtick.minor.bottom': True,\n",
    "        'ytick.direction': 'in',\n",
    "        'xtick.direction': 'in',\n",
    "}\n",
    "plt.rcParams.update(nice_fonts)\n",
    "\n",
    "# plt.rc('xtick', labelsize='x-small')\n",
    "# plt.rc('ytick', labelsize='x-small')"
   ]
  },
  {
   "cell_type": "markdown",
   "metadata": {},
   "source": [
    " # Chapter 2 Experimental details"
   ]
  },
  {
   "cell_type": "code",
   "execution_count": 126,
   "metadata": {
    "jupyter": {
     "source_hidden": true
    }
   },
   "outputs": [
    {
     "data": {
      "image/png": "[encoded data removed]",
      "text/plain": [
       "<Figure size 750x270 with 1 Axes>"
      ]
     },
     "metadata": {
      "needs_background": "light"
     },
     "output_type": "display_data"
    }
   ],
   "source": [
    "# data import\n",
    "uv_vis = pd.read_csv(\"Chapter_2/uvvis_c2_f5.csv\",index_col=None, header=0) \n",
    "\n",
    "# tidy format –––––––––––––––\n",
    "# data melt, mostly for me\n",
    "uv_vis_melt=pd.melt(uv_vis, \n",
    "        id_vars=['Wavelenght [nm]'], #Column(s) to use as identifier variables.\n",
    "#         value_vars=['B'], # Column(s) to unpivot. If not specified, uses all columns that are not set as id_vars.\n",
    "        var_name='film', # Name to use for the ‘variable’ column. If None it uses frame.columns.name or ‘variable’.\n",
    "        value_name='absorbance' # Name to use for the ‘value’ column.\n",
    "        #ignore_index=False\n",
    "       )\n",
    "uv_vis_melt=uv_vis_melt.dropna() #drops nan values\n",
    "\n",
    "# figure creation ––––––––––––––\n",
    "fig = plt.figure(figsize=(5,1.8), constrained_layout=False)\n",
    "ax = fig.add_subplot(1, 1, 1,)# yticklabels=[], yticks=[])\n",
    "\n",
    "# plot section –––––\n",
    "sns.lineplot(data=uv_vis_melt, x='Wavelenght [nm]', y='absorbance', hue='film', lw=1)\n",
    "\n",
    "# annotations in plot –––––––––\n",
    "ax.annotate(\"\\\\textbf{$\\ominus$}\", xy=(730, 0.5), xycoords=\"data\", fontsize=8, color= 'navy', zorder=20)\n",
    "ax.annotate(\"\\\\textbf{$\\ominus$}\", xy=(830, 0.46), xycoords=\"data\", fontsize=8, color= 'navy', zorder=20)\n",
    "ax.annotate(\"\\\\textbf{$\\\\bullet$}\", xy=(510, 0.88), xycoords=\"data\", fontsize=11, color= 'orange', zorder=20)\n",
    "ax.annotate(\"\\\\textbf{$\\oplus$}\", xy=(1700, 0.4), xycoords=\"data\", fontsize=8, color= 'green', zorder=20)\n",
    "ax.annotate(\"\\\\textbf{$\\ominus$}\", xy=(400, 0.7), xycoords=\"data\", fontsize=8, color= 'navy', zorder=20)\n",
    "\n",
    "# legend positioning ––––––––––\n",
    "ax.legend(labels,loc='upper right',bbox_to_anchor=(1, 1))\n",
    "\n",
    "# axes configuraiton ––––––––––\n",
    "ax.set_xlabel(\"Wavelength [nm]\")\n",
    "ax.set_ylabel(\"Absorbance\")\n",
    "ax.set_xlim(385,2500)\n",
    "ax.set_ylim(0,0.9);\n",
    "ax.xaxis.set_minor_locator(MultipleLocator(100))\n",
    "ax.yaxis.set_minor_locator(MultipleLocator(0.1))\n",
    "\n",
    "# export figure––––––\n",
    "# fig.savefig('path/name.pdf', bbox_inches='tight')"
   ]
  },
  {
   "cell_type": "markdown",
   "metadata": {},
   "source": [
    "**Figure 2_5** : UV-Vis-NIR absorbance spectrum for a film of PBTTT, in its pristine state (blue line), and doped with F4TCNQ (red line). Symbols in the plot indicate the characteristic bands of the F4TCNQ•–(⊖), the neutral polymer (•), and the polaron (⊕)"
   ]
  }
 ],
 "metadata": {
  "kernelspec": {
   "display_name": "Python 3",
   "language": "python",
   "name": "python3"
  },
  "language_info": {
   "codemirror_mode": {
    "name": "ipython",
    "version": 3
   },
   "file_extension": ".py",
   "mimetype": "text/x-python",
   "name": "python",
   "nbconvert_exporter": "python",
   "pygments_lexer": "ipython3",
   "version": "3.8.5"
  }
 },
 "nbformat": 4,
 "nbformat_minor": 4
}
